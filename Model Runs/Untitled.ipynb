{
 "cells": [
  {
   "cell_type": "code",
   "execution_count": 4,
   "id": "ec4f089f-5b41-41e3-ae6b-a96394464326",
   "metadata": {
    "tags": []
   },
   "outputs": [
    {
     "name": "stdout",
     "output_type": "stream",
     "text": [
      "   developer_id  YoE       phase  \\\n",
      "0       4981940    9  1. Phase 1   \n",
      "1       5099376   10  1. Phase 1   \n",
      "2       4559393   11  1. Phase 1   \n",
      "3       1310253    9  1. Phase 1   \n",
      "4       1183630    7  1. Phase 1   \n",
      "5       2805622   15  1. Phase 1   \n",
      "6       3427705   12  1. Phase 1   \n",
      "7       3046340   13  1. Phase 1   \n",
      "8        306724   13  1. Phase 1   \n",
      "9       4788262    8  1. Phase 1   \n",
      "\n",
      "                                        resume_plain  \n",
      "0  \\n\\n \\n  \\n \\n  \\nNasrullah \\nKarachi, Pakista...  \n",
      "1  \\n\\nNAVEENA N  \\nFull Stack Developer \\n Email...  \n",
      "2  \\n\\nWordPress Developer\\n+91 9737661584ashishp...  \n",
      "3  \\n\\nMDMAHMUDULISLAM\\nM:+880172-252-9276\\nE:iam...  \n",
      "4  \\n\\n \\nMarcos Martins \\nTelephone: (+5534) 991...  \n",
      "5  \\n\\n  \\nContato\\n31 984515832 (Home)\\nrodrigoa...  \n",
      "6  \\n\\nKSHITIZ KUMAR  \\n[Data Science | AI/ML | P...  \n",
      "7  \\n\\n\\t \\n \\nNarsingh Tomar \\nTechnical Archite...  \n",
      "8  \\n\\n                              \\n \\n \\n \\n ...  \n",
      "9  \\n\\nZoeHall.dev|zoefhall@gmail.com|(717)265-55...  \n"
     ]
    }
   ],
   "source": [
    "import pandas as pd\n",
    "\n",
    "# Load specific rows: 10 to 20 (zero-indexed, so this gets rows 10–19)\n",
    "df = pd.read_csv(\"dev_data.csv\", skiprows=range(1, 10), nrows=10)\n",
    "\n",
    "# Display the result\n",
    "print(df)\n"
   ]
  },
  {
   "cell_type": "code",
   "execution_count": 7,
   "id": "591aca8f-2565-4d8e-b47f-43565054ec5a",
   "metadata": {
    "tags": []
   },
   "outputs": [
    {
     "data": {
      "text/html": [
       "<div>\n",
       "<style scoped>\n",
       "    .dataframe tbody tr th:only-of-type {\n",
       "        vertical-align: middle;\n",
       "    }\n",
       "\n",
       "    .dataframe tbody tr th {\n",
       "        vertical-align: top;\n",
       "    }\n",
       "\n",
       "    .dataframe thead th {\n",
       "        text-align: right;\n",
       "    }\n",
       "</style>\n",
       "<table border=\"1\" class=\"dataframe\">\n",
       "  <thead>\n",
       "    <tr style=\"text-align: right;\">\n",
       "      <th></th>\n",
       "      <th>developer_id</th>\n",
       "      <th>resume_plain</th>\n",
       "    </tr>\n",
       "  </thead>\n",
       "  <tbody>\n",
       "    <tr>\n",
       "      <th>0</th>\n",
       "      <td>4981940</td>\n",
       "      <td>\\n\\n \\n  \\n \\n  \\nNasrullah \\nKarachi, Pakista...</td>\n",
       "    </tr>\n",
       "    <tr>\n",
       "      <th>1</th>\n",
       "      <td>5099376</td>\n",
       "      <td>\\n\\nNAVEENA N  \\nFull Stack Developer \\n Email...</td>\n",
       "    </tr>\n",
       "    <tr>\n",
       "      <th>2</th>\n",
       "      <td>4559393</td>\n",
       "      <td>\\n\\nWordPress Developer\\n+91 9737661584ashishp...</td>\n",
       "    </tr>\n",
       "    <tr>\n",
       "      <th>3</th>\n",
       "      <td>1310253</td>\n",
       "      <td>\\n\\nMDMAHMUDULISLAM\\nM:+880172-252-9276\\nE:iam...</td>\n",
       "    </tr>\n",
       "    <tr>\n",
       "      <th>4</th>\n",
       "      <td>1183630</td>\n",
       "      <td>\\n\\n \\nMarcos Martins \\nTelephone: (+5534) 991...</td>\n",
       "    </tr>\n",
       "    <tr>\n",
       "      <th>5</th>\n",
       "      <td>2805622</td>\n",
       "      <td>\\n\\n  \\nContato\\n31 984515832 (Home)\\nrodrigoa...</td>\n",
       "    </tr>\n",
       "    <tr>\n",
       "      <th>6</th>\n",
       "      <td>3427705</td>\n",
       "      <td>\\n\\nKSHITIZ KUMAR  \\n[Data Science | AI/ML | P...</td>\n",
       "    </tr>\n",
       "    <tr>\n",
       "      <th>7</th>\n",
       "      <td>3046340</td>\n",
       "      <td>\\n\\n\\t \\n \\nNarsingh Tomar \\nTechnical Archite...</td>\n",
       "    </tr>\n",
       "    <tr>\n",
       "      <th>8</th>\n",
       "      <td>306724</td>\n",
       "      <td>\\n\\n                              \\n \\n \\n \\n ...</td>\n",
       "    </tr>\n",
       "    <tr>\n",
       "      <th>9</th>\n",
       "      <td>4788262</td>\n",
       "      <td>\\n\\nZoeHall.dev|zoefhall@gmail.com|(717)265-55...</td>\n",
       "    </tr>\n",
       "  </tbody>\n",
       "</table>\n",
       "</div>"
      ],
      "text/plain": [
       "   developer_id                                       resume_plain\n",
       "0       4981940  \\n\\n \\n  \\n \\n  \\nNasrullah \\nKarachi, Pakista...\n",
       "1       5099376  \\n\\nNAVEENA N  \\nFull Stack Developer \\n Email...\n",
       "2       4559393  \\n\\nWordPress Developer\\n+91 9737661584ashishp...\n",
       "3       1310253  \\n\\nMDMAHMUDULISLAM\\nM:+880172-252-9276\\nE:iam...\n",
       "4       1183630  \\n\\n \\nMarcos Martins \\nTelephone: (+5534) 991...\n",
       "5       2805622  \\n\\n  \\nContato\\n31 984515832 (Home)\\nrodrigoa...\n",
       "6       3427705  \\n\\nKSHITIZ KUMAR  \\n[Data Science | AI/ML | P...\n",
       "7       3046340  \\n\\n\\t \\n \\nNarsingh Tomar \\nTechnical Archite...\n",
       "8        306724  \\n\\n                              \\n \\n \\n \\n ...\n",
       "9       4788262  \\n\\nZoeHall.dev|zoefhall@gmail.com|(717)265-55..."
      ]
     },
     "execution_count": 7,
     "metadata": {},
     "output_type": "execute_result"
    }
   ],
   "source": [
    "df['developer_id'] = df['developer_id'].astype(\"int\")\n",
    "df['resume_plain'] = df['resume_plain'].astype(\"str\")\n",
    "\n",
    "df1 = df[['developer_id', 'resume_plain']]\n",
    "df1\n",
    "\n"
   ]
  },
  {
   "cell_type": "code",
   "execution_count": null,
   "id": "ed363e16-6666-4d5b-910f-462054e3641e",
   "metadata": {},
   "outputs": [],
   "source": []
  }
 ],
 "metadata": {
  "environment": {
   "kernel": "conda-base-py",
   "name": "workbench-notebooks.m129",
   "type": "gcloud",
   "uri": "us-docker.pkg.dev/deeplearning-platform-release/gcr.io/workbench-notebooks:m129"
  },
  "kernelspec": {
   "display_name": "Python 3 (ipykernel) (Local)",
   "language": "python",
   "name": "conda-base-py"
  },
  "language_info": {
   "codemirror_mode": {
    "name": "ipython",
    "version": 3
   },
   "file_extension": ".py",
   "mimetype": "text/x-python",
   "name": "python",
   "nbconvert_exporter": "python",
   "pygments_lexer": "ipython3",
   "version": "3.10.16"
  }
 },
 "nbformat": 4,
 "nbformat_minor": 5
}
